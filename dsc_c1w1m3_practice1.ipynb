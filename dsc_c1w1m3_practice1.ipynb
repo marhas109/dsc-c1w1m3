{
  "cells": [
    {
      "cell_type": "markdown",
      "metadata": {
        "id": "rJPSjCEzVrKC"
      },
      "source": [
        "# Practice for Join Statements with SQL"
      ]
    },
    {
      "cell_type": "markdown",
      "metadata": {
        "id": "bA6istxLVwrv"
      },
      "source": [
        "Import the necessary packages and connect to the database 'data.sqlite'."
      ]
    },
    {
      "cell_type": "code",
      "execution_count": 1,
      "metadata": {
        "id": "DNjYtBW0avrw"
      },
      "outputs": [],
      "source": [
        "# Run without change\n",
        "\n",
        "# Libraries and database\n",
        "\n",
        "import sqlite3\n",
        "import pandas as pd\n",
        "\n",
        "conn = sqlite3.connect('data.sqlite')"
      ]
    },
    {
      "cell_type": "markdown",
      "metadata": {
        "id": "4s0N2cguV-fG"
      },
      "source": [
        "1. Select the names (frist and last) of all employees in Boston"
      ]
    },
    {
      "cell_type": "code",
      "execution_count": 10,
      "metadata": {
        "id": "nmZiPfKCV053"
      },
      "outputs": [
        {
          "data": {
            "text/html": [
              "<div>\n",
              "<style scoped>\n",
              "    .dataframe tbody tr th:only-of-type {\n",
              "        vertical-align: middle;\n",
              "    }\n",
              "\n",
              "    .dataframe tbody tr th {\n",
              "        vertical-align: top;\n",
              "    }\n",
              "\n",
              "    .dataframe thead th {\n",
              "        text-align: right;\n",
              "    }\n",
              "</style>\n",
              "<table border=\"1\" class=\"dataframe\">\n",
              "  <thead>\n",
              "    <tr style=\"text-align: right;\">\n",
              "      <th></th>\n",
              "      <th>firstName</th>\n",
              "      <th>lastName</th>\n",
              "    </tr>\n",
              "  </thead>\n",
              "  <tbody>\n",
              "    <tr>\n",
              "      <th>0</th>\n",
              "      <td>Julie</td>\n",
              "      <td>Firrelli</td>\n",
              "    </tr>\n",
              "    <tr>\n",
              "      <th>1</th>\n",
              "      <td>Steve</td>\n",
              "      <td>Patterson</td>\n",
              "    </tr>\n",
              "  </tbody>\n",
              "</table>\n",
              "</div>"
            ],
            "text/plain": [
              "  firstName   lastName\n",
              "0     Julie   Firrelli\n",
              "1     Steve  Patterson"
            ]
          },
          "execution_count": 10,
          "metadata": {},
          "output_type": "execute_result"
        }
      ],
      "source": [
        "# Your code here\n",
        "\n",
        "q = \"\"\"\n",
        "SELECT firstName, lastName\n",
        "FROM employees\n",
        "JOIN offices\n",
        "    USING(officeCode)\n",
        "WHERE city = \"Boston\"\n",
        ";\n",
        "\"\"\"\n",
        "\n",
        "pd.read_sql(q, conn)\n"
      ]
    },
    {
      "cell_type": "markdown",
      "metadata": {
        "id": "wl0D6_XRWboc"
      },
      "source": [
        "2. Are there any offices that have zero employees?"
      ]
    },
    {
      "cell_type": "code",
      "execution_count": 15,
      "metadata": {
        "id": "VhhV7qDfWa-v"
      },
      "outputs": [
        {
          "data": {
            "text/html": [
              "<div>\n",
              "<style scoped>\n",
              "    .dataframe tbody tr th:only-of-type {\n",
              "        vertical-align: middle;\n",
              "    }\n",
              "\n",
              "    .dataframe tbody tr th {\n",
              "        vertical-align: top;\n",
              "    }\n",
              "\n",
              "    .dataframe thead th {\n",
              "        text-align: right;\n",
              "    }\n",
              "</style>\n",
              "<table border=\"1\" class=\"dataframe\">\n",
              "  <thead>\n",
              "    <tr style=\"text-align: right;\">\n",
              "      <th></th>\n",
              "      <th>officeCode</th>\n",
              "      <th>city</th>\n",
              "      <th>num_emp</th>\n",
              "    </tr>\n",
              "  </thead>\n",
              "  <tbody>\n",
              "    <tr>\n",
              "      <th>0</th>\n",
              "      <td>27</td>\n",
              "      <td>Boston</td>\n",
              "      <td>0</td>\n",
              "    </tr>\n",
              "  </tbody>\n",
              "</table>\n",
              "</div>"
            ],
            "text/plain": [
              "   officeCode    city  num_emp\n",
              "0          27  Boston        0"
            ]
          },
          "execution_count": 15,
          "metadata": {},
          "output_type": "execute_result"
        }
      ],
      "source": [
        "# Your code here\n",
        "q = \"\"\"\n",
        "SELECT \n",
        "    o.officeCode, o.city,\n",
        "    COUNT(e.employeeNumber) AS num_emp\n",
        "FROM offices AS o\n",
        "LEFT JOIN employees as e\n",
        "    USING(officeCode)\n",
        "GROUP BY officeCode\n",
        "HAVING num_emp = 0\n",
        ";\n",
        "\"\"\"\n",
        "\n",
        "pd.read_sql(q, conn)"
      ]
    },
    {
      "cell_type": "markdown",
      "metadata": {
        "id": "D69f7XnTWdMd"
      },
      "source": [
        "3. How many customers are there per office?"
      ]
    },
    {
      "cell_type": "code",
      "execution_count": 17,
      "metadata": {
        "id": "-1QD3NXfWHQf"
      },
      "outputs": [
        {
          "data": {
            "text/html": [
              "<div>\n",
              "<style scoped>\n",
              "    .dataframe tbody tr th:only-of-type {\n",
              "        vertical-align: middle;\n",
              "    }\n",
              "\n",
              "    .dataframe tbody tr th {\n",
              "        vertical-align: top;\n",
              "    }\n",
              "\n",
              "    .dataframe thead th {\n",
              "        text-align: right;\n",
              "    }\n",
              "</style>\n",
              "<table border=\"1\" class=\"dataframe\">\n",
              "  <thead>\n",
              "    <tr style=\"text-align: right;\">\n",
              "      <th></th>\n",
              "      <th>officeCode</th>\n",
              "      <th>city</th>\n",
              "      <th>num_cust</th>\n",
              "    </tr>\n",
              "  </thead>\n",
              "  <tbody>\n",
              "    <tr>\n",
              "      <th>0</th>\n",
              "      <td>1</td>\n",
              "      <td>San Francisco</td>\n",
              "      <td>12</td>\n",
              "    </tr>\n",
              "    <tr>\n",
              "      <th>1</th>\n",
              "      <td>2</td>\n",
              "      <td>Boston</td>\n",
              "      <td>12</td>\n",
              "    </tr>\n",
              "    <tr>\n",
              "      <th>2</th>\n",
              "      <td>3</td>\n",
              "      <td>NYC</td>\n",
              "      <td>15</td>\n",
              "    </tr>\n",
              "    <tr>\n",
              "      <th>3</th>\n",
              "      <td>4</td>\n",
              "      <td>Paris</td>\n",
              "      <td>29</td>\n",
              "    </tr>\n",
              "    <tr>\n",
              "      <th>4</th>\n",
              "      <td>5</td>\n",
              "      <td>Tokyo</td>\n",
              "      <td>5</td>\n",
              "    </tr>\n",
              "    <tr>\n",
              "      <th>5</th>\n",
              "      <td>6</td>\n",
              "      <td>Sydney</td>\n",
              "      <td>10</td>\n",
              "    </tr>\n",
              "    <tr>\n",
              "      <th>6</th>\n",
              "      <td>7</td>\n",
              "      <td>London</td>\n",
              "      <td>17</td>\n",
              "    </tr>\n",
              "  </tbody>\n",
              "</table>\n",
              "</div>"
            ],
            "text/plain": [
              "   officeCode           city  num_cust\n",
              "0           1  San Francisco        12\n",
              "1           2         Boston        12\n",
              "2           3            NYC        15\n",
              "3           4          Paris        29\n",
              "4           5          Tokyo         5\n",
              "5           6         Sydney        10\n",
              "6           7         London        17"
            ]
          },
          "execution_count": 17,
          "metadata": {},
          "output_type": "execute_result"
        }
      ],
      "source": [
        "# Your code here\n",
        "q = \"\"\"\n",
        "SELECT \n",
        "    o.officeCode, o.city,\n",
        "    COUNT(c.customerNumber) AS num_cust\n",
        "FROM offices AS o\n",
        "JOIN employees as e\n",
        "    USING(officeCode)\n",
        "JOIN customers as c\n",
        "    ON e.employeeNumber = c.salesRepEmployeeNumber\n",
        "GROUP BY officeCode\n",
        ";\n",
        "\"\"\"\n",
        "\n",
        "pd.read_sql(q, conn)"
      ]
    },
    {
      "cell_type": "markdown",
      "metadata": {
        "id": "9hSMO9U-XOP1"
      },
      "source": [
        "4. Display the names of every individual product that each employee has sold as a dataframe."
      ]
    },
    {
      "cell_type": "code",
      "execution_count": 42,
      "metadata": {},
      "outputs": [
        {
          "data": {
            "text/html": [
              "<div>\n",
              "<style scoped>\n",
              "    .dataframe tbody tr th:only-of-type {\n",
              "        vertical-align: middle;\n",
              "    }\n",
              "\n",
              "    .dataframe tbody tr th {\n",
              "        vertical-align: top;\n",
              "    }\n",
              "\n",
              "    .dataframe thead th {\n",
              "        text-align: right;\n",
              "    }\n",
              "</style>\n",
              "<table border=\"1\" class=\"dataframe\">\n",
              "  <thead>\n",
              "    <tr style=\"text-align: right;\">\n",
              "      <th></th>\n",
              "      <th>firstName</th>\n",
              "      <th>lastName</th>\n",
              "      <th>productName</th>\n",
              "    </tr>\n",
              "  </thead>\n",
              "  <tbody>\n",
              "    <tr>\n",
              "      <th>0</th>\n",
              "      <td>Leslie</td>\n",
              "      <td>Jennings</td>\n",
              "      <td>1937 Lincoln Berline</td>\n",
              "    </tr>\n",
              "    <tr>\n",
              "      <th>1</th>\n",
              "      <td>Leslie</td>\n",
              "      <td>Jennings</td>\n",
              "      <td>1936 Mercedes-Benz 500K Special Roadster</td>\n",
              "    </tr>\n",
              "    <tr>\n",
              "      <th>2</th>\n",
              "      <td>Leslie</td>\n",
              "      <td>Jennings</td>\n",
              "      <td>1934 Ford V8 Coupe</td>\n",
              "    </tr>\n",
              "    <tr>\n",
              "      <th>3</th>\n",
              "      <td>Leslie</td>\n",
              "      <td>Jennings</td>\n",
              "      <td>18th Century Vintage Horse Carriage</td>\n",
              "    </tr>\n",
              "    <tr>\n",
              "      <th>4</th>\n",
              "      <td>Leslie</td>\n",
              "      <td>Jennings</td>\n",
              "      <td>1917 Maxwell Touring Car</td>\n",
              "    </tr>\n",
              "    <tr>\n",
              "      <th>...</th>\n",
              "      <td>...</td>\n",
              "      <td>...</td>\n",
              "      <td>...</td>\n",
              "    </tr>\n",
              "    <tr>\n",
              "      <th>2991</th>\n",
              "      <td>Martin</td>\n",
              "      <td>Gerard</td>\n",
              "      <td>1962 Volkswagen Microbus</td>\n",
              "    </tr>\n",
              "    <tr>\n",
              "      <th>2992</th>\n",
              "      <td>Martin</td>\n",
              "      <td>Gerard</td>\n",
              "      <td>1936 Chrysler Airflow</td>\n",
              "    </tr>\n",
              "    <tr>\n",
              "      <th>2993</th>\n",
              "      <td>Martin</td>\n",
              "      <td>Gerard</td>\n",
              "      <td>1980’s GM Manhattan Express</td>\n",
              "    </tr>\n",
              "    <tr>\n",
              "      <th>2994</th>\n",
              "      <td>Martin</td>\n",
              "      <td>Gerard</td>\n",
              "      <td>1996 Peterbilt 379 Stake Bed with Outrigger</td>\n",
              "    </tr>\n",
              "    <tr>\n",
              "      <th>2995</th>\n",
              "      <td>Martin</td>\n",
              "      <td>Gerard</td>\n",
              "      <td>1982 Camaro Z28</td>\n",
              "    </tr>\n",
              "  </tbody>\n",
              "</table>\n",
              "<p>2996 rows × 3 columns</p>\n",
              "</div>"
            ],
            "text/plain": [
              "     firstName  lastName                                  productName\n",
              "0       Leslie  Jennings                         1937 Lincoln Berline\n",
              "1       Leslie  Jennings     1936 Mercedes-Benz 500K Special Roadster\n",
              "2       Leslie  Jennings                           1934 Ford V8 Coupe\n",
              "3       Leslie  Jennings          18th Century Vintage Horse Carriage\n",
              "4       Leslie  Jennings                     1917 Maxwell Touring Car\n",
              "...        ...       ...                                          ...\n",
              "2991    Martin    Gerard                     1962 Volkswagen Microbus\n",
              "2992    Martin    Gerard                        1936 Chrysler Airflow\n",
              "2993    Martin    Gerard                  1980’s GM Manhattan Express\n",
              "2994    Martin    Gerard  1996 Peterbilt 379 Stake Bed with Outrigger\n",
              "2995    Martin    Gerard                              1982 Camaro Z28\n",
              "\n",
              "[2996 rows x 3 columns]"
            ]
          },
          "execution_count": 42,
          "metadata": {},
          "output_type": "execute_result"
        }
      ],
      "source": [
        "q1 = \"\"\"\n",
        "SELECT  firstName, lastName, productName\n",
        "FROM orders AS o\n",
        "JOIN orderDetails AS od\n",
        "    USING(orderNumber)\n",
        "JOIN products AS p\n",
        "    USING(productCode)\n",
        "JOIN customers AS c\n",
        "    USING(customerNumber)\n",
        "JOIN employees AS e\n",
        "    ON c.salesRepEmployeeNumber = e.employeeNumber\n",
        "ORDER BY employeeNumber\n",
        ";\n",
        "\"\"\"\n",
        "\n",
        "df = pd.read_sql(q1, conn)\n",
        "\n",
        "df"
      ]
    },
    {
      "cell_type": "markdown",
      "metadata": {
        "id": "z50u4KJDXtH5"
      },
      "source": [
        "5. Display the number of products each employee has sold\n",
        "- Alphabetize the results by employee last name.\n",
        "- Use the quantityOrdered column from orderDetails.\n",
        "- Think about how to group the data when some employees might have the same first or last name.\n"
      ]
    },
    {
      "cell_type": "code",
      "execution_count": 47,
      "metadata": {
        "id": "bYI2ByRIXz-8"
      },
      "outputs": [
        {
          "data": {
            "text/html": [
              "<div>\n",
              "<style scoped>\n",
              "    .dataframe tbody tr th:only-of-type {\n",
              "        vertical-align: middle;\n",
              "    }\n",
              "\n",
              "    .dataframe tbody tr th {\n",
              "        vertical-align: top;\n",
              "    }\n",
              "\n",
              "    .dataframe thead th {\n",
              "        text-align: right;\n",
              "    }\n",
              "</style>\n",
              "<table border=\"1\" class=\"dataframe\">\n",
              "  <thead>\n",
              "    <tr style=\"text-align: right;\">\n",
              "      <th></th>\n",
              "      <th>full_name</th>\n",
              "      <th>SUM(quantityOrdered)</th>\n",
              "    </tr>\n",
              "  </thead>\n",
              "  <tbody>\n",
              "    <tr>\n",
              "      <th>0</th>\n",
              "      <td>Leslie Jennings</td>\n",
              "      <td>11854</td>\n",
              "    </tr>\n",
              "    <tr>\n",
              "      <th>1</th>\n",
              "      <td>Leslie Thompson</td>\n",
              "      <td>4056</td>\n",
              "    </tr>\n",
              "    <tr>\n",
              "      <th>2</th>\n",
              "      <td>Julie Firrelli</td>\n",
              "      <td>4227</td>\n",
              "    </tr>\n",
              "    <tr>\n",
              "      <th>3</th>\n",
              "      <td>Steve Patterson</td>\n",
              "      <td>5561</td>\n",
              "    </tr>\n",
              "    <tr>\n",
              "      <th>4</th>\n",
              "      <td>Foon Yue Tseng</td>\n",
              "      <td>5016</td>\n",
              "    </tr>\n",
              "    <tr>\n",
              "      <th>5</th>\n",
              "      <td>George Vanauf</td>\n",
              "      <td>7423</td>\n",
              "    </tr>\n",
              "    <tr>\n",
              "      <th>6</th>\n",
              "      <td>Loui Bondur</td>\n",
              "      <td>6186</td>\n",
              "    </tr>\n",
              "    <tr>\n",
              "      <th>7</th>\n",
              "      <td>Gerard Hernandez</td>\n",
              "      <td>14231</td>\n",
              "    </tr>\n",
              "    <tr>\n",
              "      <th>8</th>\n",
              "      <td>Pamela Castillo</td>\n",
              "      <td>9290</td>\n",
              "    </tr>\n",
              "    <tr>\n",
              "      <th>9</th>\n",
              "      <td>Larry Bott</td>\n",
              "      <td>8205</td>\n",
              "    </tr>\n",
              "    <tr>\n",
              "      <th>10</th>\n",
              "      <td>Barry Jones</td>\n",
              "      <td>7486</td>\n",
              "    </tr>\n",
              "    <tr>\n",
              "      <th>11</th>\n",
              "      <td>Andy Fixter</td>\n",
              "      <td>6246</td>\n",
              "    </tr>\n",
              "    <tr>\n",
              "      <th>12</th>\n",
              "      <td>Peter Marsh</td>\n",
              "      <td>6632</td>\n",
              "    </tr>\n",
              "    <tr>\n",
              "      <th>13</th>\n",
              "      <td>Mami Nishi</td>\n",
              "      <td>4923</td>\n",
              "    </tr>\n",
              "    <tr>\n",
              "      <th>14</th>\n",
              "      <td>Martin Gerard</td>\n",
              "      <td>4180</td>\n",
              "    </tr>\n",
              "  </tbody>\n",
              "</table>\n",
              "</div>"
            ],
            "text/plain": [
              "           full_name  SUM(quantityOrdered)\n",
              "0    Leslie Jennings                 11854\n",
              "1    Leslie Thompson                  4056\n",
              "2     Julie Firrelli                  4227\n",
              "3    Steve Patterson                  5561\n",
              "4     Foon Yue Tseng                  5016\n",
              "5      George Vanauf                  7423\n",
              "6        Loui Bondur                  6186\n",
              "7   Gerard Hernandez                 14231\n",
              "8    Pamela Castillo                  9290\n",
              "9         Larry Bott                  8205\n",
              "10       Barry Jones                  7486\n",
              "11       Andy Fixter                  6246\n",
              "12       Peter Marsh                  6632\n",
              "13        Mami Nishi                  4923\n",
              "14     Martin Gerard                  4180"
            ]
          },
          "execution_count": 47,
          "metadata": {},
          "output_type": "execute_result"
        }
      ],
      "source": [
        "q = \"\"\"\n",
        "SELECT  firstName || \" \" || lastName AS full_name, SUM(quantityOrdered)\n",
        "FROM orders AS o\n",
        "JOIN orderDetails AS od\n",
        "    USING(orderNumber)\n",
        "JOIN customers AS c\n",
        "    USING(customerNumber)\n",
        "JOIN employees AS e\n",
        "    ON c.salesRepEmployeeNumber = e.employeeNumber\n",
        "GROUP BY employeeNumber\n",
        ";\n",
        "\"\"\"\n",
        "\n",
        "df = pd.read_sql(q, conn)\n",
        "\n",
        "df"
      ]
    },
    {
      "cell_type": "markdown",
      "metadata": {
        "id": "aicIzpuqYA-h"
      },
      "source": [
        "6.  Display the names of employees who have sold more than 200 different products."
      ]
    },
    {
      "cell_type": "code",
      "execution_count": 48,
      "metadata": {
        "id": "aH-08SqVYBJZ"
      },
      "outputs": [
        {
          "data": {
            "text/html": [
              "<div>\n",
              "<style scoped>\n",
              "    .dataframe tbody tr th:only-of-type {\n",
              "        vertical-align: middle;\n",
              "    }\n",
              "\n",
              "    .dataframe tbody tr th {\n",
              "        vertical-align: top;\n",
              "    }\n",
              "\n",
              "    .dataframe thead th {\n",
              "        text-align: right;\n",
              "    }\n",
              "</style>\n",
              "<table border=\"1\" class=\"dataframe\">\n",
              "  <thead>\n",
              "    <tr style=\"text-align: right;\">\n",
              "      <th></th>\n",
              "      <th>full_name</th>\n",
              "      <th>unique_products_sold</th>\n",
              "    </tr>\n",
              "  </thead>\n",
              "  <tbody>\n",
              "    <tr>\n",
              "      <th>0</th>\n",
              "      <td>Leslie Jennings</td>\n",
              "      <td>331</td>\n",
              "    </tr>\n",
              "    <tr>\n",
              "      <th>1</th>\n",
              "      <td>George Vanauf</td>\n",
              "      <td>211</td>\n",
              "    </tr>\n",
              "    <tr>\n",
              "      <th>2</th>\n",
              "      <td>Gerard Hernandez</td>\n",
              "      <td>396</td>\n",
              "    </tr>\n",
              "    <tr>\n",
              "      <th>3</th>\n",
              "      <td>Pamela Castillo</td>\n",
              "      <td>272</td>\n",
              "    </tr>\n",
              "    <tr>\n",
              "      <th>4</th>\n",
              "      <td>Larry Bott</td>\n",
              "      <td>236</td>\n",
              "    </tr>\n",
              "    <tr>\n",
              "      <th>5</th>\n",
              "      <td>Barry Jones</td>\n",
              "      <td>220</td>\n",
              "    </tr>\n",
              "  </tbody>\n",
              "</table>\n",
              "</div>"
            ],
            "text/plain": [
              "          full_name  unique_products_sold\n",
              "0   Leslie Jennings                   331\n",
              "1     George Vanauf                   211\n",
              "2  Gerard Hernandez                   396\n",
              "3   Pamela Castillo                   272\n",
              "4        Larry Bott                   236\n",
              "5       Barry Jones                   220"
            ]
          },
          "execution_count": 48,
          "metadata": {},
          "output_type": "execute_result"
        }
      ],
      "source": [
        "q = \"\"\"\n",
        "SELECT  firstName || \" \" || lastName AS full_name, COUNT(productCode) AS unique_products_sold\n",
        "FROM orders AS o\n",
        "JOIN orderDetails AS od\n",
        "    USING(orderNumber)\n",
        "JOIN customers AS c\n",
        "    USING(customerNumber)\n",
        "JOIN employees AS e\n",
        "    ON c.salesRepEmployeeNumber = e.employeeNumber\n",
        "GROUP BY employeeNumber\n",
        "HAVING unique_products_sold > 200\n",
        "ORDER BY employeeNumber\n",
        ";\n",
        "\"\"\"\n",
        "\n",
        "df = pd.read_sql(q, conn)\n",
        "\n",
        "df"
      ]
    },
    {
      "cell_type": "code",
      "execution_count": 49,
      "metadata": {},
      "outputs": [],
      "source": [
        "conn.close()"
      ]
    },
    {
      "cell_type": "code",
      "execution_count": null,
      "metadata": {},
      "outputs": [],
      "source": []
    }
  ],
  "metadata": {
    "colab": {
      "provenance": []
    },
    "kernelspec": {
      "display_name": "Python 3",
      "name": "python3"
    },
    "language_info": {
      "codemirror_mode": {
        "name": "ipython",
        "version": 3
      },
      "file_extension": ".py",
      "mimetype": "text/x-python",
      "name": "python",
      "nbconvert_exporter": "python",
      "pygments_lexer": "ipython3",
      "version": "3.12.4"
    }
  },
  "nbformat": 4,
  "nbformat_minor": 0
}
