{
  "cells": [
    {
      "cell_type": "markdown",
      "metadata": {
        "id": "1jbhQ6MxePf4"
      },
      "source": [
        "# Practice for One-to-Many and Many-to-Many Joins for SQL"
      ]
    },
    {
      "cell_type": "markdown",
      "metadata": {
        "id": "P5_5i3ZXe_K0"
      },
      "source": [
        "Import libraries and connect to the database\n",
        "- Include the relevant imports, then connect to the database located at data.sqlite."
      ]
    },
    {
      "cell_type": "code",
      "execution_count": 1,
      "metadata": {
        "id": "X5mZoBTUeIlW"
      },
      "outputs": [],
      "source": [
        "# Run this code without change\n",
        "\n",
        "import sqlite3\n",
        "import pandas as pd\n",
        "\n",
        "conn = sqlite3.connect('data.sqlite')"
      ]
    },
    {
      "cell_type": "markdown",
      "metadata": {
        "id": "HF3nmgFtfFe9"
      },
      "source": [
        "1. Employees and Their Offices (a One-to-One Join)\n",
        "- Select all of the employees including their first name and last name along with the city and state of the office that they work out of (if they have one).\n",
        "- Include all employees and order them by their first name, then their last name."
      ]
    },
    {
      "cell_type": "code",
      "execution_count": 2,
      "metadata": {
        "colab": {
          "base_uri": "https://localhost:8080/",
          "height": 223
        },
        "id": "otAdzYHzfVpn",
        "outputId": "c7f0bf46-b339-44b4-e199-0da883d757a4"
      },
      "outputs": [
        {
          "name": "stdout",
          "output_type": "stream",
          "text": [
            "Total number of results: 23\n"
          ]
        },
        {
          "data": {
            "text/html": [
              "<div>\n",
              "<style scoped>\n",
              "    .dataframe tbody tr th:only-of-type {\n",
              "        vertical-align: middle;\n",
              "    }\n",
              "\n",
              "    .dataframe tbody tr th {\n",
              "        vertical-align: top;\n",
              "    }\n",
              "\n",
              "    .dataframe thead th {\n",
              "        text-align: right;\n",
              "    }\n",
              "</style>\n",
              "<table border=\"1\" class=\"dataframe\">\n",
              "  <thead>\n",
              "    <tr style=\"text-align: right;\">\n",
              "      <th></th>\n",
              "      <th>firstName</th>\n",
              "      <th>lastName</th>\n",
              "      <th>city</th>\n",
              "      <th>state</th>\n",
              "    </tr>\n",
              "  </thead>\n",
              "  <tbody>\n",
              "    <tr>\n",
              "      <th>0</th>\n",
              "      <td>Andy</td>\n",
              "      <td>Fixter</td>\n",
              "      <td>Sydney</td>\n",
              "      <td></td>\n",
              "    </tr>\n",
              "    <tr>\n",
              "      <th>1</th>\n",
              "      <td>Anthony</td>\n",
              "      <td>Bow</td>\n",
              "      <td>San Francisco</td>\n",
              "      <td>CA</td>\n",
              "    </tr>\n",
              "    <tr>\n",
              "      <th>2</th>\n",
              "      <td>Barry</td>\n",
              "      <td>Jones</td>\n",
              "      <td>London</td>\n",
              "      <td></td>\n",
              "    </tr>\n",
              "    <tr>\n",
              "      <th>3</th>\n",
              "      <td>Diane</td>\n",
              "      <td>Murphy</td>\n",
              "      <td>San Francisco</td>\n",
              "      <td>CA</td>\n",
              "    </tr>\n",
              "    <tr>\n",
              "      <th>4</th>\n",
              "      <td>Foon Yue</td>\n",
              "      <td>Tseng</td>\n",
              "      <td>NYC</td>\n",
              "      <td>NY</td>\n",
              "    </tr>\n",
              "  </tbody>\n",
              "</table>\n",
              "</div>"
            ],
            "text/plain": [
              "  firstName lastName           city state\n",
              "0      Andy   Fixter         Sydney      \n",
              "1   Anthony      Bow  San Francisco    CA\n",
              "2     Barry    Jones         London      \n",
              "3     Diane   Murphy  San Francisco    CA\n",
              "4  Foon Yue    Tseng            NYC    NY"
            ]
          },
          "execution_count": 2,
          "metadata": {},
          "output_type": "execute_result"
        }
      ],
      "source": [
        "# Your code here\n",
        "\n",
        "q = \"\"\"\n",
        "SELECT firstName, lastName, city, state\n",
        "FROM employees\n",
        "JOIN offices\n",
        "    USING(officeCode)\n",
        "ORDER BY firstName, lastName\n",
        ";\n",
        "\"\"\"\n",
        "df = pd.read_sql(q, conn)\n",
        "print('Total number of results:', len(df))\n",
        "df.head()\n"
      ]
    },
    {
      "cell_type": "markdown",
      "metadata": {
        "id": "8ZHLHoqeftpv"
      },
      "source": [
        "2. Customers and Their Orders (a One-to-Many Join)\n",
        "- Select all of the customer contacts (first and last names) along with details for each of the customers' order numbers, order dates, and statuses."
      ]
    },
    {
      "cell_type": "code",
      "execution_count": 3,
      "metadata": {
        "colab": {
          "base_uri": "https://localhost:8080/",
          "height": 223
        },
        "id": "KzDg7DwOft2P",
        "outputId": "5ca14a38-e430-445b-e218-62509b77e298"
      },
      "outputs": [
        {
          "name": "stdout",
          "output_type": "stream",
          "text": [
            "Total number of results: 326\n"
          ]
        },
        {
          "data": {
            "text/html": [
              "<div>\n",
              "<style scoped>\n",
              "    .dataframe tbody tr th:only-of-type {\n",
              "        vertical-align: middle;\n",
              "    }\n",
              "\n",
              "    .dataframe tbody tr th {\n",
              "        vertical-align: top;\n",
              "    }\n",
              "\n",
              "    .dataframe thead th {\n",
              "        text-align: right;\n",
              "    }\n",
              "</style>\n",
              "<table border=\"1\" class=\"dataframe\">\n",
              "  <thead>\n",
              "    <tr style=\"text-align: right;\">\n",
              "      <th></th>\n",
              "      <th>contactFirstName</th>\n",
              "      <th>contactLastName</th>\n",
              "      <th>orderNumber</th>\n",
              "      <th>orderDate</th>\n",
              "      <th>status</th>\n",
              "    </tr>\n",
              "  </thead>\n",
              "  <tbody>\n",
              "    <tr>\n",
              "      <th>0</th>\n",
              "      <td>Carine</td>\n",
              "      <td>Schmitt</td>\n",
              "      <td>10123</td>\n",
              "      <td>2003-05-20</td>\n",
              "      <td>Shipped</td>\n",
              "    </tr>\n",
              "    <tr>\n",
              "      <th>1</th>\n",
              "      <td>Carine</td>\n",
              "      <td>Schmitt</td>\n",
              "      <td>10298</td>\n",
              "      <td>2004-09-27</td>\n",
              "      <td>Shipped</td>\n",
              "    </tr>\n",
              "    <tr>\n",
              "      <th>2</th>\n",
              "      <td>Carine</td>\n",
              "      <td>Schmitt</td>\n",
              "      <td>10345</td>\n",
              "      <td>2004-11-25</td>\n",
              "      <td>Shipped</td>\n",
              "    </tr>\n",
              "    <tr>\n",
              "      <th>3</th>\n",
              "      <td>Jean</td>\n",
              "      <td>King</td>\n",
              "      <td>10124</td>\n",
              "      <td>2003-05-21</td>\n",
              "      <td>Shipped</td>\n",
              "    </tr>\n",
              "    <tr>\n",
              "      <th>4</th>\n",
              "      <td>Jean</td>\n",
              "      <td>King</td>\n",
              "      <td>10278</td>\n",
              "      <td>2004-08-06</td>\n",
              "      <td>Shipped</td>\n",
              "    </tr>\n",
              "  </tbody>\n",
              "</table>\n",
              "</div>"
            ],
            "text/plain": [
              "  contactFirstName contactLastName  orderNumber   orderDate   status\n",
              "0          Carine          Schmitt        10123  2003-05-20  Shipped\n",
              "1          Carine          Schmitt        10298  2004-09-27  Shipped\n",
              "2          Carine          Schmitt        10345  2004-11-25  Shipped\n",
              "3             Jean            King        10124  2003-05-21  Shipped\n",
              "4             Jean            King        10278  2004-08-06  Shipped"
            ]
          },
          "execution_count": 3,
          "metadata": {},
          "output_type": "execute_result"
        }
      ],
      "source": [
        "# Your code here\n",
        "\n",
        "q = \"\"\"\n",
        "SELECT\n",
        "    contactFirstName,\n",
        "    contactLastName,\n",
        "    orderNumber,\n",
        "    orderDate,\n",
        "    status\n",
        "FROM customers\n",
        "JOIN orders\n",
        "    USING(customerNumber)\n",
        ";\n",
        "\"\"\"\n",
        "df = pd.read_sql(q, conn)\n",
        "print('Total number of results:', len(df))\n",
        "df.head()"
      ]
    },
    {
      "cell_type": "markdown",
      "metadata": {
        "id": "JIUVtXPIfuR3"
      },
      "source": [
        "3. Customers and Their Payments (Another One-to-Many Join)\n",
        "- Select all of the customer contacts (first and last names) along with details for each of the customers' payment amounts and date of payment.\n",
        "- Sort these results in descending order by the payment amount."
      ]
    },
    {
      "cell_type": "code",
      "execution_count": 4,
      "metadata": {
        "colab": {
          "base_uri": "https://localhost:8080/",
          "height": 223
        },
        "id": "EJgYKPhafucZ",
        "outputId": "23f1aa9e-9579-4711-8241-24d0f08d3ba5"
      },
      "outputs": [
        {
          "name": "stdout",
          "output_type": "stream",
          "text": [
            "Total number of results: 273\n"
          ]
        },
        {
          "data": {
            "text/html": [
              "<div>\n",
              "<style scoped>\n",
              "    .dataframe tbody tr th:only-of-type {\n",
              "        vertical-align: middle;\n",
              "    }\n",
              "\n",
              "    .dataframe tbody tr th {\n",
              "        vertical-align: top;\n",
              "    }\n",
              "\n",
              "    .dataframe thead th {\n",
              "        text-align: right;\n",
              "    }\n",
              "</style>\n",
              "<table border=\"1\" class=\"dataframe\">\n",
              "  <thead>\n",
              "    <tr style=\"text-align: right;\">\n",
              "      <th></th>\n",
              "      <th>contactFirstName</th>\n",
              "      <th>contactLastName</th>\n",
              "      <th>amount</th>\n",
              "      <th>paymentDate</th>\n",
              "    </tr>\n",
              "  </thead>\n",
              "  <tbody>\n",
              "    <tr>\n",
              "      <th>0</th>\n",
              "      <td>Diego</td>\n",
              "      <td>Freyre</td>\n",
              "      <td>120166.58</td>\n",
              "      <td>2005-03-18</td>\n",
              "    </tr>\n",
              "    <tr>\n",
              "      <th>1</th>\n",
              "      <td>Diego</td>\n",
              "      <td>Freyre</td>\n",
              "      <td>116208.40</td>\n",
              "      <td>2004-12-31</td>\n",
              "    </tr>\n",
              "    <tr>\n",
              "      <th>2</th>\n",
              "      <td>Susan</td>\n",
              "      <td>Nelson</td>\n",
              "      <td>111654.40</td>\n",
              "      <td>2003-08-15</td>\n",
              "    </tr>\n",
              "    <tr>\n",
              "      <th>3</th>\n",
              "      <td>Eric</td>\n",
              "      <td>Natividad</td>\n",
              "      <td>105743.00</td>\n",
              "      <td>2003-12-26</td>\n",
              "    </tr>\n",
              "    <tr>\n",
              "      <th>4</th>\n",
              "      <td>Susan</td>\n",
              "      <td>Nelson</td>\n",
              "      <td>101244.59</td>\n",
              "      <td>2005-03-05</td>\n",
              "    </tr>\n",
              "  </tbody>\n",
              "</table>\n",
              "</div>"
            ],
            "text/plain": [
              "  contactFirstName contactLastName     amount paymentDate\n",
              "0           Diego           Freyre  120166.58  2005-03-18\n",
              "1           Diego           Freyre  116208.40  2004-12-31\n",
              "2            Susan          Nelson  111654.40  2003-08-15\n",
              "3             Eric       Natividad  105743.00  2003-12-26\n",
              "4            Susan          Nelson  101244.59  2005-03-05"
            ]
          },
          "execution_count": 4,
          "metadata": {},
          "output_type": "execute_result"
        }
      ],
      "source": [
        "# Your code here\n",
        "\n",
        "q = \"\"\"\n",
        "SELECT\n",
        "    contactFirstName,\n",
        "    contactLastName,\n",
        "    amount,\n",
        "    paymentDate\n",
        "FROM customers\n",
        "JOIN payments\n",
        "    USING(customerNumber)\n",
        "ORDER BY amount DESC\n",
        ";\n",
        "\"\"\"\n",
        "df = pd.read_sql(q, conn)\n",
        "print('Total number of results:', len(df))\n",
        "df.head()\n"
      ]
    },
    {
      "cell_type": "markdown",
      "metadata": {
        "id": "q9GWOlTHfunl"
      },
      "source": [
        "4. Orders, Order Details, and Product Details (a Many-to-Many Join)\n",
        "- Select all of the customer contacts (first and last names) along with the product names, quantities, and date ordered for each of the customers and each of their orders.\n",
        "- Sort these in descending order by the order date.\n",
        "- Note: This will require joining four tables.\n"
      ]
    },
    {
      "cell_type": "code",
      "execution_count": 5,
      "metadata": {
        "colab": {
          "base_uri": "https://localhost:8080/",
          "height": 223
        },
        "id": "FTajwX_Dfuwm",
        "outputId": "9707ca91-23bf-482c-a456-af591c81aec3"
      },
      "outputs": [
        {
          "name": "stdout",
          "output_type": "stream",
          "text": [
            "Total number of results: 2996\n"
          ]
        },
        {
          "data": {
            "text/html": [
              "<div>\n",
              "<style scoped>\n",
              "    .dataframe tbody tr th:only-of-type {\n",
              "        vertical-align: middle;\n",
              "    }\n",
              "\n",
              "    .dataframe tbody tr th {\n",
              "        vertical-align: top;\n",
              "    }\n",
              "\n",
              "    .dataframe thead th {\n",
              "        text-align: right;\n",
              "    }\n",
              "</style>\n",
              "<table border=\"1\" class=\"dataframe\">\n",
              "  <thead>\n",
              "    <tr style=\"text-align: right;\">\n",
              "      <th></th>\n",
              "      <th>contactFirstName</th>\n",
              "      <th>contactLastName</th>\n",
              "      <th>productName</th>\n",
              "      <th>quantityOrdered</th>\n",
              "      <th>orderDate</th>\n",
              "    </tr>\n",
              "  </thead>\n",
              "  <tbody>\n",
              "    <tr>\n",
              "      <th>0</th>\n",
              "      <td>Janine</td>\n",
              "      <td>Labrune</td>\n",
              "      <td>1962 LanciaA Delta 16V</td>\n",
              "      <td>38</td>\n",
              "      <td>2005-05-31</td>\n",
              "    </tr>\n",
              "    <tr>\n",
              "      <th>1</th>\n",
              "      <td>Janine</td>\n",
              "      <td>Labrune</td>\n",
              "      <td>1957 Chevy Pickup</td>\n",
              "      <td>33</td>\n",
              "      <td>2005-05-31</td>\n",
              "    </tr>\n",
              "    <tr>\n",
              "      <th>2</th>\n",
              "      <td>Janine</td>\n",
              "      <td>Labrune</td>\n",
              "      <td>1998 Chrysler Plymouth Prowler</td>\n",
              "      <td>28</td>\n",
              "      <td>2005-05-31</td>\n",
              "    </tr>\n",
              "    <tr>\n",
              "      <th>3</th>\n",
              "      <td>Janine</td>\n",
              "      <td>Labrune</td>\n",
              "      <td>1964 Mercedes Tour Bus</td>\n",
              "      <td>38</td>\n",
              "      <td>2005-05-31</td>\n",
              "    </tr>\n",
              "    <tr>\n",
              "      <th>4</th>\n",
              "      <td>Janine</td>\n",
              "      <td>Labrune</td>\n",
              "      <td>1926 Ford Fire Engine</td>\n",
              "      <td>19</td>\n",
              "      <td>2005-05-31</td>\n",
              "    </tr>\n",
              "  </tbody>\n",
              "</table>\n",
              "</div>"
            ],
            "text/plain": [
              "  contactFirstName contactLastName                     productName  \\\n",
              "0          Janine          Labrune          1962 LanciaA Delta 16V   \n",
              "1          Janine          Labrune               1957 Chevy Pickup   \n",
              "2          Janine          Labrune  1998 Chrysler Plymouth Prowler   \n",
              "3          Janine          Labrune          1964 Mercedes Tour Bus   \n",
              "4          Janine          Labrune           1926 Ford Fire Engine   \n",
              "\n",
              "   quantityOrdered   orderDate  \n",
              "0               38  2005-05-31  \n",
              "1               33  2005-05-31  \n",
              "2               28  2005-05-31  \n",
              "3               38  2005-05-31  \n",
              "4               19  2005-05-31  "
            ]
          },
          "execution_count": 5,
          "metadata": {},
          "output_type": "execute_result"
        }
      ],
      "source": [
        "# Your code here\n",
        "\n",
        "q = \"\"\"\n",
        "SELECT\n",
        "    contactFirstName,\n",
        "    contactLastName,\n",
        "    productName,\n",
        "    quantityOrdered,\n",
        "    orderDate\n",
        "FROM customers\n",
        "JOIN orders\n",
        "    USING(customerNumber)\n",
        "JOIN orderdetails\n",
        "    USING(orderNumber)\n",
        "JOIN products\n",
        "    USING (productCode)\n",
        "ORDER BY orderDate DESC\n",
        ";\"\"\"\n",
        "df = pd.read_sql(q, conn)\n",
        "print('Total number of results:', len(df))\n",
        "df.head()\n"
      ]
    }
  ],
  "metadata": {
    "colab": {
      "provenance": []
    },
    "kernelspec": {
      "display_name": "win_c0c1",
      "language": "python",
      "name": "python3"
    },
    "language_info": {
      "codemirror_mode": {
        "name": "ipython",
        "version": 3
      },
      "file_extension": ".py",
      "mimetype": "text/x-python",
      "name": "python",
      "nbconvert_exporter": "python",
      "pygments_lexer": "ipython3",
      "version": "3.12.4"
    }
  },
  "nbformat": 4,
  "nbformat_minor": 0
}
